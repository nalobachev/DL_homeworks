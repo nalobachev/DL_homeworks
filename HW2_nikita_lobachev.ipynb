{
  "nbformat": 4,
  "nbformat_minor": 0,
  "metadata": {
    "colab": {
      "name": "HW2_nikita_lobachev.ipynb",
      "provenance": [],
      "collapsed_sections": []
    },
    "kernelspec": {
      "name": "python3",
      "display_name": "Python 3"
    },
    "accelerator": "GPU"
  },
  "cells": [
    {
      "cell_type": "code",
      "metadata": {
        "id": "6jBlkzBr0z3f"
      },
      "source": [
        "import torch\r\n",
        "import numpy as np\r\n",
        "import torchvision\r\n",
        "import os\r\n",
        "import cv2\r\n",
        "import torch.nn as nn\r\n",
        "from torch.utils.data import DataLoader, Dataset\r\n",
        "from sklearn.metrics import accuracy_score"
      ],
      "execution_count": 1,
      "outputs": []
    },
    {
      "cell_type": "code",
      "metadata": {
        "colab": {
          "base_uri": "https://localhost:8080/"
        },
        "id": "bHeo67aZ3cA7",
        "outputId": "842fce65-c0a8-4008-8b5c-195eddc04386"
      },
      "source": [
        "from google.colab import drive\r\n",
        "drive.mount('/content/drive')"
      ],
      "execution_count": 2,
      "outputs": [
        {
          "output_type": "stream",
          "text": [
            "Drive already mounted at /content/drive; to attempt to forcibly remount, call drive.mount(\"/content/drive\", force_remount=True).\n"
          ],
          "name": "stdout"
        }
      ]
    },
    {
      "cell_type": "code",
      "metadata": {
        "id": "mumw-Ai04lmJ"
      },
      "source": [
        "def read_files(X, Y, path, ans):\r\n",
        "  files = os.listdir(path)\r\n",
        "  for name in files:\r\n",
        "    img = cv2.imread(path + '/' + name, 0)\r\n",
        "    if img.shape != 0:\r\n",
        "      img = cv2.resize(img, (256, 256))\r\n",
        "      vect = img.reshape(1, 256 ** 2)\r\n",
        "      vect = vect / 255.\r\n",
        "      X = vect if (X is None) else np.vstack((X, vect)) \r\n",
        "      Y = np.append(Y, ans)\r\n",
        "  return X, Y"
      ],
      "execution_count": 3,
      "outputs": []
    },
    {
      "cell_type": "code",
      "metadata": {
        "id": "WzXDQf8H59hn"
      },
      "source": [
        "path = \"/content/drive/MyDrive/lesson1_dataset\"\r\n",
        "X = None\r\n",
        "Y = np.array([])\r\n",
        "X, Y = read_files(X, Y, path + \"/logloss_0\", 0)\r\n",
        "X, Y = read_files(X, Y, path + \"/logloss_1\", 1)"
      ],
      "execution_count": 4,
      "outputs": []
    },
    {
      "cell_type": "code",
      "metadata": {
        "id": "VNjB-n6b6KJZ"
      },
      "source": [
        "class BoxesDataset(Dataset):\r\n",
        "    def __init__(self, X, Y):\r\n",
        "        self.x = torch.from_numpy(X)\r\n",
        "        self.y = torch.from_numpy(Y)\r\n",
        "\r\n",
        "    def __len__(self):\r\n",
        "        return self.x.shape[0]\r\n",
        "\r\n",
        "    def __getitem__(self, index):\r\n",
        "        return self.x[index], self.y[index]"
      ],
      "execution_count": 5,
      "outputs": []
    },
    {
      "cell_type": "code",
      "metadata": {
        "id": "vIU6T7GUOem4"
      },
      "source": [
        "dataset = BoxesDataset(X, Y)\r\n",
        "train_set, test_set = torch.utils.data.random_split(dataset, [round(0.65*len(dataset)), round(0.35*len(dataset))])\r\n",
        "\r\n",
        "train_loader = DataLoader(dataset=train_set, batch_size=8, drop_last=True, shuffle=True)\r\n",
        "test_loader = DataLoader(dataset=test_set, shuffle=True)"
      ],
      "execution_count": 6,
      "outputs": []
    },
    {
      "cell_type": "code",
      "metadata": {
        "colab": {
          "base_uri": "https://localhost:8080/"
        },
        "id": "3khHPjFMR3rI",
        "outputId": "d69ca5f7-40ec-4d3e-f3e5-25889246233c"
      },
      "source": [
        "for x, y in train_loader:\r\n",
        "    print(x.shape, y.shape)"
      ],
      "execution_count": 7,
      "outputs": [
        {
          "output_type": "stream",
          "text": [
            "torch.Size([8, 65536]) torch.Size([8])\n",
            "torch.Size([8, 65536]) torch.Size([8])\n",
            "torch.Size([8, 65536]) torch.Size([8])\n",
            "torch.Size([8, 65536]) torch.Size([8])\n",
            "torch.Size([8, 65536]) torch.Size([8])\n"
          ],
          "name": "stdout"
        }
      ]
    },
    {
      "cell_type": "code",
      "metadata": {
        "id": "ydRceVVIS3eo"
      },
      "source": [
        "model = nn.Sequential(\r\n",
        "    nn.Linear(65536, 1024),\r\n",
        "    nn.BatchNorm1d(1024),\r\n",
        "    nn.Dropout(0.3),\r\n",
        "    nn.ReLU(),\r\n",
        "    nn.Linear(1024, 1024),\r\n",
        "    nn.BatchNorm1d(1024),\r\n",
        "    nn.Dropout(0.3),\r\n",
        "    nn.ReLU(),\r\n",
        "    nn.Linear(1024, 1024),\r\n",
        "    nn.BatchNorm1d(1024),\r\n",
        "    nn.Dropout(0.3),\r\n",
        "    nn.ReLU(),\r\n",
        "    nn.Linear(1024, 2),\r\n",
        "    nn.Softmax()\r\n",
        ")"
      ],
      "execution_count": 8,
      "outputs": []
    },
    {
      "cell_type": "code",
      "metadata": {
        "id": "ipk7dkUwaBp8"
      },
      "source": [
        "criterion = nn.CrossEntropyLoss()\r\n",
        "optimizer = torch.optim.Adam(model.parameters())"
      ],
      "execution_count": 9,
      "outputs": []
    },
    {
      "cell_type": "code",
      "metadata": {
        "colab": {
          "base_uri": "https://localhost:8080/"
        },
        "id": "1JQQhGTSaEdv",
        "outputId": "f470fc92-08c0-482e-9bcb-acc460c87b76"
      },
      "source": [
        "model.cuda()"
      ],
      "execution_count": 10,
      "outputs": [
        {
          "output_type": "execute_result",
          "data": {
            "text/plain": [
              "Sequential(\n",
              "  (0): Linear(in_features=65536, out_features=1024, bias=True)\n",
              "  (1): BatchNorm1d(1024, eps=1e-05, momentum=0.1, affine=True, track_running_stats=True)\n",
              "  (2): Dropout(p=0.3, inplace=False)\n",
              "  (3): ReLU()\n",
              "  (4): Linear(in_features=1024, out_features=1024, bias=True)\n",
              "  (5): BatchNorm1d(1024, eps=1e-05, momentum=0.1, affine=True, track_running_stats=True)\n",
              "  (6): Dropout(p=0.3, inplace=False)\n",
              "  (7): ReLU()\n",
              "  (8): Linear(in_features=1024, out_features=1024, bias=True)\n",
              "  (9): BatchNorm1d(1024, eps=1e-05, momentum=0.1, affine=True, track_running_stats=True)\n",
              "  (10): Dropout(p=0.3, inplace=False)\n",
              "  (11): ReLU()\n",
              "  (12): Linear(in_features=1024, out_features=2, bias=True)\n",
              "  (13): Softmax(dim=None)\n",
              ")"
            ]
          },
          "metadata": {
            "tags": []
          },
          "execution_count": 10
        }
      ]
    },
    {
      "cell_type": "code",
      "metadata": {
        "colab": {
          "base_uri": "https://localhost:8080/"
        },
        "id": "OyjZjSvnsll8",
        "outputId": "24764bc5-9f00-4f6b-8226-4ef220b045f9"
      },
      "source": [
        "epochs = 15\r\n",
        "model.train()\r\n",
        "for i in range(epochs):\r\n",
        "    for j, (x, y) in enumerate(train_loader):\r\n",
        "        optimizer.zero_grad()\r\n",
        "        x = x.cuda()\r\n",
        "        y = y.cuda()\r\n",
        "        y_pred = model(x.float())\r\n",
        "        loss = criterion(y_pred, y.long())\r\n",
        "        print(f\"Epoch {i}\\t iter {j}\\t loss {loss}\")\r\n",
        "        loss.backward()\r\n",
        "        optimizer.step()"
      ],
      "execution_count": 11,
      "outputs": [
        {
          "output_type": "stream",
          "text": [
            "/usr/local/lib/python3.6/dist-packages/torch/nn/modules/container.py:117: UserWarning: Implicit dimension choice for softmax has been deprecated. Change the call to include dim=X as an argument.\n",
            "  input = module(input)\n"
          ],
          "name": "stderr"
        },
        {
          "output_type": "stream",
          "text": [
            "Epoch 0\t iter 0\t loss 0.6265265345573425\n",
            "Epoch 0\t iter 1\t loss 0.5381142497062683\n",
            "Epoch 0\t iter 2\t loss 0.6290380954742432\n",
            "Epoch 0\t iter 3\t loss 0.654078483581543\n",
            "Epoch 0\t iter 4\t loss 0.45528626441955566\n",
            "Epoch 1\t iter 0\t loss 0.5847827196121216\n",
            "Epoch 1\t iter 1\t loss 0.5614520907402039\n",
            "Epoch 1\t iter 2\t loss 0.4915042817592621\n",
            "Epoch 1\t iter 3\t loss 0.5418227910995483\n",
            "Epoch 1\t iter 4\t loss 0.335675984621048\n",
            "Epoch 2\t iter 0\t loss 0.32817739248275757\n",
            "Epoch 2\t iter 1\t loss 0.3171457052230835\n",
            "Epoch 2\t iter 2\t loss 0.5966716408729553\n",
            "Epoch 2\t iter 3\t loss 0.3192328214645386\n",
            "Epoch 2\t iter 4\t loss 0.5845376253128052\n",
            "Epoch 3\t iter 0\t loss 0.48346254229545593\n",
            "Epoch 3\t iter 1\t loss 0.43999242782592773\n",
            "Epoch 3\t iter 2\t loss 0.4538801908493042\n",
            "Epoch 3\t iter 3\t loss 0.44541919231414795\n",
            "Epoch 3\t iter 4\t loss 0.33750224113464355\n",
            "Epoch 4\t iter 0\t loss 0.6928684115409851\n",
            "Epoch 4\t iter 1\t loss 0.3874188959598541\n",
            "Epoch 4\t iter 2\t loss 0.316852867603302\n",
            "Epoch 4\t iter 3\t loss 0.4597145915031433\n",
            "Epoch 4\t iter 4\t loss 0.3195565342903137\n",
            "Epoch 5\t iter 0\t loss 0.5280939340591431\n",
            "Epoch 5\t iter 1\t loss 0.42897656559944153\n",
            "Epoch 5\t iter 2\t loss 0.5867277383804321\n",
            "Epoch 5\t iter 3\t loss 0.4417617619037628\n",
            "Epoch 5\t iter 4\t loss 0.3304792046546936\n",
            "Epoch 6\t iter 0\t loss 0.4123474657535553\n",
            "Epoch 6\t iter 1\t loss 0.32937896251678467\n",
            "Epoch 6\t iter 2\t loss 0.4463272988796234\n",
            "Epoch 6\t iter 3\t loss 0.4431959390640259\n",
            "Epoch 6\t iter 4\t loss 0.40117788314819336\n",
            "Epoch 7\t iter 0\t loss 0.31374627351760864\n",
            "Epoch 7\t iter 1\t loss 0.4407115876674652\n",
            "Epoch 7\t iter 2\t loss 0.4898604452610016\n",
            "Epoch 7\t iter 3\t loss 0.447849303483963\n",
            "Epoch 7\t iter 4\t loss 0.5197517275810242\n",
            "Epoch 8\t iter 0\t loss 0.3252314627170563\n",
            "Epoch 8\t iter 1\t loss 0.4996367394924164\n",
            "Epoch 8\t iter 2\t loss 0.3152037262916565\n",
            "Epoch 8\t iter 3\t loss 0.3166637718677521\n",
            "Epoch 8\t iter 4\t loss 0.4512789845466614\n",
            "Epoch 9\t iter 0\t loss 0.44199422001838684\n",
            "Epoch 9\t iter 1\t loss 0.31941458582878113\n",
            "Epoch 9\t iter 2\t loss 0.34416061639785767\n",
            "Epoch 9\t iter 3\t loss 0.44114696979522705\n",
            "Epoch 9\t iter 4\t loss 0.4373225271701813\n",
            "Epoch 10\t iter 0\t loss 0.4504636526107788\n",
            "Epoch 10\t iter 1\t loss 0.33152061700820923\n",
            "Epoch 10\t iter 2\t loss 0.32003331184387207\n",
            "Epoch 10\t iter 3\t loss 0.31494468450546265\n",
            "Epoch 10\t iter 4\t loss 0.48986372351646423\n",
            "Epoch 11\t iter 0\t loss 0.33399778604507446\n",
            "Epoch 11\t iter 1\t loss 0.3182753622531891\n",
            "Epoch 11\t iter 2\t loss 0.5692604780197144\n",
            "Epoch 11\t iter 3\t loss 0.31749284267425537\n",
            "Epoch 11\t iter 4\t loss 0.31880515813827515\n",
            "Epoch 12\t iter 0\t loss 0.32598167657852173\n",
            "Epoch 12\t iter 1\t loss 0.3143278658390045\n",
            "Epoch 12\t iter 2\t loss 0.3362683951854706\n",
            "Epoch 12\t iter 3\t loss 0.4679158329963684\n",
            "Epoch 12\t iter 4\t loss 0.3883744180202484\n",
            "Epoch 13\t iter 0\t loss 0.45495182275772095\n",
            "Epoch 13\t iter 1\t loss 0.322186678647995\n",
            "Epoch 13\t iter 2\t loss 0.31630492210388184\n",
            "Epoch 13\t iter 3\t loss 0.3150242865085602\n",
            "Epoch 13\t iter 4\t loss 0.31506356596946716\n",
            "Epoch 14\t iter 0\t loss 0.32993757724761963\n",
            "Epoch 14\t iter 1\t loss 0.4430800974369049\n",
            "Epoch 14\t iter 2\t loss 0.571378231048584\n",
            "Epoch 14\t iter 3\t loss 0.31367117166519165\n",
            "Epoch 14\t iter 4\t loss 0.314554899930954\n"
          ],
          "name": "stdout"
        }
      ]
    },
    {
      "cell_type": "code",
      "metadata": {
        "colab": {
          "base_uri": "https://localhost:8080/"
        },
        "id": "_tytOvmVy2iW",
        "outputId": "9226a82a-1452-4e26-e9f6-04a067fe9b10"
      },
      "source": [
        "model.eval()\r\n",
        "preds = []\r\n",
        "true = []\r\n",
        "\r\n",
        "for (x,y) in test_loader:\r\n",
        "    x = x.cuda()\r\n",
        "    y = y.cuda()\r\n",
        "    preds.append(int(torch.max(model(x.float()).data, 1)[1]))\r\n",
        "    true.append(int(y))"
      ],
      "execution_count": 12,
      "outputs": [
        {
          "output_type": "stream",
          "text": [
            "/usr/local/lib/python3.6/dist-packages/torch/nn/modules/container.py:117: UserWarning: Implicit dimension choice for softmax has been deprecated. Change the call to include dim=X as an argument.\n",
            "  input = module(input)\n"
          ],
          "name": "stderr"
        }
      ]
    },
    {
      "cell_type": "code",
      "metadata": {
        "colab": {
          "base_uri": "https://localhost:8080/"
        },
        "id": "OVhabBTODbnU",
        "outputId": "c16273b1-f345-411e-d472-ff08730560f1"
      },
      "source": [
        "print(true)\r\n",
        "print(preds)\r\n",
        "\r\n",
        "accuracy_score(true, preds)"
      ],
      "execution_count": 13,
      "outputs": [
        {
          "output_type": "stream",
          "text": [
            "[1, 0, 1, 1, 1, 0, 1, 1, 1, 0, 1, 0, 0, 1, 0, 1, 0, 0, 0, 0, 1, 1, 0]\n",
            "[1, 0, 1, 1, 1, 0, 1, 1, 1, 1, 1, 0, 0, 1, 0, 1, 0, 0, 0, 0, 1, 1, 0]\n"
          ],
          "name": "stdout"
        },
        {
          "output_type": "execute_result",
          "data": {
            "text/plain": [
              "0.9565217391304348"
            ]
          },
          "metadata": {
            "tags": []
          },
          "execution_count": 13
        }
      ]
    }
  ]
}